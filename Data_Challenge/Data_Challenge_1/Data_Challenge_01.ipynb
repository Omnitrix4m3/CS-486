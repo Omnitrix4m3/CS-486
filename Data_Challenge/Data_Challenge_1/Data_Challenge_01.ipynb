{
 "cells": [
  {
   "cell_type": "markdown",
   "metadata": {},
   "source": [
    "# CS 486: Machine Learning - Data Challenge 1 - Omar Hussain"
   ]
  },
  {
   "cell_type": "markdown",
   "metadata": {},
   "source": [
    "## Pre-Processing Data\n",
    "### Importing Packages"
   ]
  },
  {
   "cell_type": "code",
   "execution_count": 283,
   "metadata": {},
   "outputs": [],
   "source": [
    "import pandas as pd\n",
    "import numpy as np\n",
    "import matplotlib.pyplot as plt\n",
    "\n",
    "from pandas.plotting import scatter_matrix"
   ]
  },
  {
   "cell_type": "markdown",
   "metadata": {},
   "source": [
    "### Reading CSV Files"
   ]
  },
  {
   "cell_type": "code",
   "execution_count": 284,
   "metadata": {},
   "outputs": [
    {
     "data": {
      "text/html": [
       "<div>\n",
       "<style scoped>\n",
       "    .dataframe tbody tr th:only-of-type {\n",
       "        vertical-align: middle;\n",
       "    }\n",
       "\n",
       "    .dataframe tbody tr th {\n",
       "        vertical-align: top;\n",
       "    }\n",
       "\n",
       "    .dataframe thead th {\n",
       "        text-align: right;\n",
       "    }\n",
       "</style>\n",
       "<table border=\"1\" class=\"dataframe\">\n",
       "  <thead>\n",
       "    <tr style=\"text-align: right;\">\n",
       "      <th></th>\n",
       "      <th>Year</th>\n",
       "      <th>Happiness Rank</th>\n",
       "      <th>Happiness Score</th>\n",
       "      <th>Economy (GDP per Capita)</th>\n",
       "      <th>Family</th>\n",
       "      <th>Health (Life Expectancy)</th>\n",
       "      <th>Freedom</th>\n",
       "      <th>Trust (Government Corruption)</th>\n",
       "      <th>Generosity</th>\n",
       "      <th>Population Estimate</th>\n",
       "    </tr>\n",
       "  </thead>\n",
       "  <tbody>\n",
       "    <tr>\n",
       "      <th>count</th>\n",
       "      <td>242.000000</td>\n",
       "      <td>242.000000</td>\n",
       "      <td>242.000000</td>\n",
       "      <td>242.000000</td>\n",
       "      <td>242.000000</td>\n",
       "      <td>242.000000</td>\n",
       "      <td>242.000000</td>\n",
       "      <td>242.000000</td>\n",
       "      <td>242.000000</td>\n",
       "      <td>2.420000e+02</td>\n",
       "    </tr>\n",
       "    <tr>\n",
       "      <th>mean</th>\n",
       "      <td>2016.954545</td>\n",
       "      <td>58.037190</td>\n",
       "      <td>5.895496</td>\n",
       "      <td>2.884285</td>\n",
       "      <td>1.172189</td>\n",
       "      <td>0.882891</td>\n",
       "      <td>0.538545</td>\n",
       "      <td>0.258015</td>\n",
       "      <td>0.188854</td>\n",
       "      <td>8.774480e+07</td>\n",
       "    </tr>\n",
       "    <tr>\n",
       "      <th>std</th>\n",
       "      <td>1.435328</td>\n",
       "      <td>41.147073</td>\n",
       "      <td>1.051886</td>\n",
       "      <td>2.456517</td>\n",
       "      <td>0.307805</td>\n",
       "      <td>0.279914</td>\n",
       "      <td>0.177976</td>\n",
       "      <td>0.188388</td>\n",
       "      <td>0.117228</td>\n",
       "      <td>2.584785e+08</td>\n",
       "    </tr>\n",
       "    <tr>\n",
       "      <th>min</th>\n",
       "      <td>2015.000000</td>\n",
       "      <td>1.000000</td>\n",
       "      <td>3.006000</td>\n",
       "      <td>0.071200</td>\n",
       "      <td>0.107060</td>\n",
       "      <td>0.267000</td>\n",
       "      <td>0.013000</td>\n",
       "      <td>0.001000</td>\n",
       "      <td>0.000000</td>\n",
       "      <td>3.011010e+05</td>\n",
       "    </tr>\n",
       "    <tr>\n",
       "      <th>25%</th>\n",
       "      <td>2016.000000</td>\n",
       "      <td>23.000000</td>\n",
       "      <td>5.183750</td>\n",
       "      <td>0.982750</td>\n",
       "      <td>0.975545</td>\n",
       "      <td>0.707388</td>\n",
       "      <td>0.449185</td>\n",
       "      <td>0.083025</td>\n",
       "      <td>0.099000</td>\n",
       "      <td>7.347570e+06</td>\n",
       "    </tr>\n",
       "    <tr>\n",
       "      <th>50%</th>\n",
       "      <td>2017.000000</td>\n",
       "      <td>51.000000</td>\n",
       "      <td>5.946500</td>\n",
       "      <td>1.327460</td>\n",
       "      <td>1.234435</td>\n",
       "      <td>0.874320</td>\n",
       "      <td>0.546675</td>\n",
       "      <td>0.211095</td>\n",
       "      <td>0.162460</td>\n",
       "      <td>1.369083e+07</td>\n",
       "    </tr>\n",
       "    <tr>\n",
       "      <th>75%</th>\n",
       "      <td>2018.000000</td>\n",
       "      <td>88.750000</td>\n",
       "      <td>6.743750</td>\n",
       "      <td>5.377166</td>\n",
       "      <td>1.430750</td>\n",
       "      <td>1.021648</td>\n",
       "      <td>0.642162</td>\n",
       "      <td>0.427625</td>\n",
       "      <td>0.266100</td>\n",
       "      <td>7.318332e+07</td>\n",
       "    </tr>\n",
       "    <tr>\n",
       "      <th>max</th>\n",
       "      <td>2019.000000</td>\n",
       "      <td>156.000000</td>\n",
       "      <td>7.769000</td>\n",
       "      <td>7.590000</td>\n",
       "      <td>1.616463</td>\n",
       "      <td>1.558231</td>\n",
       "      <td>0.952770</td>\n",
       "      <td>0.635423</td>\n",
       "      <td>0.519120</td>\n",
       "      <td>1.567995e+09</td>\n",
       "    </tr>\n",
       "  </tbody>\n",
       "</table>\n",
       "</div>"
      ],
      "text/plain": [
       "              Year  Happiness Rank  Happiness Score  Economy (GDP per Capita)  \\\n",
       "count   242.000000      242.000000       242.000000                242.000000   \n",
       "mean   2016.954545       58.037190         5.895496                  2.884285   \n",
       "std       1.435328       41.147073         1.051886                  2.456517   \n",
       "min    2015.000000        1.000000         3.006000                  0.071200   \n",
       "25%    2016.000000       23.000000         5.183750                  0.982750   \n",
       "50%    2017.000000       51.000000         5.946500                  1.327460   \n",
       "75%    2018.000000       88.750000         6.743750                  5.377166   \n",
       "max    2019.000000      156.000000         7.769000                  7.590000   \n",
       "\n",
       "           Family  Health (Life Expectancy)     Freedom  \\\n",
       "count  242.000000                242.000000  242.000000   \n",
       "mean     1.172189                  0.882891    0.538545   \n",
       "std      0.307805                  0.279914    0.177976   \n",
       "min      0.107060                  0.267000    0.013000   \n",
       "25%      0.975545                  0.707388    0.449185   \n",
       "50%      1.234435                  0.874320    0.546675   \n",
       "75%      1.430750                  1.021648    0.642162   \n",
       "max      1.616463                  1.558231    0.952770   \n",
       "\n",
       "       Trust (Government Corruption)  Generosity  Population Estimate  \n",
       "count                     242.000000  242.000000         2.420000e+02  \n",
       "mean                        0.258015    0.188854         8.774480e+07  \n",
       "std                         0.188388    0.117228         2.584785e+08  \n",
       "min                         0.001000    0.000000         3.011010e+05  \n",
       "25%                         0.083025    0.099000         7.347570e+06  \n",
       "50%                         0.211095    0.162460         1.369083e+07  \n",
       "75%                         0.427625    0.266100         7.318332e+07  \n",
       "max                         0.635423    0.519120         1.567995e+09  "
      ]
     },
     "execution_count": 284,
     "metadata": {},
     "output_type": "execute_result"
    }
   ],
   "source": [
    "read_train_x = pd.read_csv(\"train_x_region.csv\")\n",
    "read_train_y = pd.read_csv(\"train_y.csv\")\n",
    "read_test_x = pd.read_csv(\"test_x_region.csv\")\n",
    "\n",
    "read_train_x.describe()"
   ]
  },
  {
   "cell_type": "markdown",
   "metadata": {},
   "source": [
    "### Concatenating Datasets"
   ]
  },
  {
   "cell_type": "code",
   "execution_count": 285,
   "metadata": {},
   "outputs": [
    {
     "data": {
      "text/html": [
       "<div>\n",
       "<style scoped>\n",
       "    .dataframe tbody tr th:only-of-type {\n",
       "        vertical-align: middle;\n",
       "    }\n",
       "\n",
       "    .dataframe tbody tr th {\n",
       "        vertical-align: top;\n",
       "    }\n",
       "\n",
       "    .dataframe thead th {\n",
       "        text-align: right;\n",
       "    }\n",
       "</style>\n",
       "<table border=\"1\" class=\"dataframe\">\n",
       "  <thead>\n",
       "    <tr style=\"text-align: right;\">\n",
       "      <th></th>\n",
       "      <th>Year</th>\n",
       "      <th>Country</th>\n",
       "      <th>Happiness Rank</th>\n",
       "      <th>Happiness Score</th>\n",
       "      <th>Economy (GDP per Capita)</th>\n",
       "      <th>Family</th>\n",
       "      <th>Health (Life Expectancy)</th>\n",
       "      <th>Freedom</th>\n",
       "      <th>Trust (Government Corruption)</th>\n",
       "      <th>Generosity</th>\n",
       "      <th>Population Estimate</th>\n",
       "      <th>Region</th>\n",
       "      <th>Immigration to the United States</th>\n",
       "    </tr>\n",
       "  </thead>\n",
       "  <tbody>\n",
       "    <tr>\n",
       "      <th>0</th>\n",
       "      <td>2016</td>\n",
       "      <td>France</td>\n",
       "      <td>32</td>\n",
       "      <td>6.478</td>\n",
       "      <td>6.559000</td>\n",
       "      <td>1.394880</td>\n",
       "      <td>1.005080</td>\n",
       "      <td>0.837950</td>\n",
       "      <td>0.465620</td>\n",
       "      <td>0.178080</td>\n",
       "      <td>74264176</td>\n",
       "      <td>Europe &amp; Central Asia</td>\n",
       "      <td>5473.0</td>\n",
       "    </tr>\n",
       "    <tr>\n",
       "      <th>1</th>\n",
       "      <td>2018</td>\n",
       "      <td>Venezuela</td>\n",
       "      <td>102</td>\n",
       "      <td>4.806</td>\n",
       "      <td>0.996000</td>\n",
       "      <td>1.469000</td>\n",
       "      <td>0.657000</td>\n",
       "      <td>0.133000</td>\n",
       "      <td>0.052000</td>\n",
       "      <td>0.056000</td>\n",
       "      <td>29174393</td>\n",
       "      <td>Latin America &amp; Caribbean</td>\n",
       "      <td>11481.0</td>\n",
       "    </tr>\n",
       "    <tr>\n",
       "      <th>2</th>\n",
       "      <td>2019</td>\n",
       "      <td>Costa Rica</td>\n",
       "      <td>12</td>\n",
       "      <td>7.167</td>\n",
       "      <td>1.034000</td>\n",
       "      <td>1.441000</td>\n",
       "      <td>0.963000</td>\n",
       "      <td>0.558000</td>\n",
       "      <td>0.093000</td>\n",
       "      <td>0.144000</td>\n",
       "      <td>4657652</td>\n",
       "      <td>Latin America &amp; Caribbean</td>\n",
       "      <td>2466.0</td>\n",
       "    </tr>\n",
       "    <tr>\n",
       "      <th>3</th>\n",
       "      <td>2019</td>\n",
       "      <td>Bolivia</td>\n",
       "      <td>61</td>\n",
       "      <td>5.779</td>\n",
       "      <td>0.776000</td>\n",
       "      <td>1.209000</td>\n",
       "      <td>0.706000</td>\n",
       "      <td>0.511000</td>\n",
       "      <td>0.064000</td>\n",
       "      <td>0.137000</td>\n",
       "      <td>10286729</td>\n",
       "      <td>Latin America &amp; Caribbean</td>\n",
       "      <td>1425.0</td>\n",
       "    </tr>\n",
       "    <tr>\n",
       "      <th>4</th>\n",
       "      <td>2016</td>\n",
       "      <td>Nicaragua</td>\n",
       "      <td>48</td>\n",
       "      <td>5.992</td>\n",
       "      <td>6.107000</td>\n",
       "      <td>0.693840</td>\n",
       "      <td>0.895210</td>\n",
       "      <td>0.652130</td>\n",
       "      <td>0.465820</td>\n",
       "      <td>0.162920</td>\n",
       "      <td>5994622</td>\n",
       "      <td>Latin America &amp; Caribbean</td>\n",
       "      <td>3397.0</td>\n",
       "    </tr>\n",
       "    <tr>\n",
       "      <th>...</th>\n",
       "      <td>...</td>\n",
       "      <td>...</td>\n",
       "      <td>...</td>\n",
       "      <td>...</td>\n",
       "      <td>...</td>\n",
       "      <td>...</td>\n",
       "      <td>...</td>\n",
       "      <td>...</td>\n",
       "      <td>...</td>\n",
       "      <td>...</td>\n",
       "      <td>...</td>\n",
       "      <td>...</td>\n",
       "      <td>...</td>\n",
       "    </tr>\n",
       "    <tr>\n",
       "      <th>237</th>\n",
       "      <td>2017</td>\n",
       "      <td>Philippines</td>\n",
       "      <td>72</td>\n",
       "      <td>5.430</td>\n",
       "      <td>5.314665</td>\n",
       "      <td>0.857699</td>\n",
       "      <td>1.253918</td>\n",
       "      <td>0.468009</td>\n",
       "      <td>0.585215</td>\n",
       "      <td>0.193513</td>\n",
       "      <td>99766788</td>\n",
       "      <td>East Asia &amp; Pacific</td>\n",
       "      <td>46542.0</td>\n",
       "    </tr>\n",
       "    <tr>\n",
       "      <th>238</th>\n",
       "      <td>2018</td>\n",
       "      <td>United Kingdom</td>\n",
       "      <td>11</td>\n",
       "      <td>7.190</td>\n",
       "      <td>1.244000</td>\n",
       "      <td>1.433000</td>\n",
       "      <td>0.888000</td>\n",
       "      <td>0.464000</td>\n",
       "      <td>0.082000</td>\n",
       "      <td>0.262000</td>\n",
       "      <td>73917008</td>\n",
       "      <td>Europe &amp; Central Asia</td>\n",
       "      <td>11867.0</td>\n",
       "    </tr>\n",
       "    <tr>\n",
       "      <th>239</th>\n",
       "      <td>2017</td>\n",
       "      <td>Ethiopia</td>\n",
       "      <td>119</td>\n",
       "      <td>4.460</td>\n",
       "      <td>4.377271</td>\n",
       "      <td>0.339234</td>\n",
       "      <td>0.864669</td>\n",
       "      <td>0.353410</td>\n",
       "      <td>0.408843</td>\n",
       "      <td>0.312651</td>\n",
       "      <td>78815294</td>\n",
       "      <td>Sub-Saharan Africa</td>\n",
       "      <td>15678.0</td>\n",
       "    </tr>\n",
       "    <tr>\n",
       "      <th>240</th>\n",
       "      <td>2019</td>\n",
       "      <td>India</td>\n",
       "      <td>140</td>\n",
       "      <td>4.015</td>\n",
       "      <td>0.755000</td>\n",
       "      <td>0.765000</td>\n",
       "      <td>0.588000</td>\n",
       "      <td>0.498000</td>\n",
       "      <td>0.085000</td>\n",
       "      <td>0.200000</td>\n",
       "      <td>1260422331</td>\n",
       "      <td>South Asia</td>\n",
       "      <td>51139.0</td>\n",
       "    </tr>\n",
       "    <tr>\n",
       "      <th>241</th>\n",
       "      <td>2015</td>\n",
       "      <td>Liberia</td>\n",
       "      <td>116</td>\n",
       "      <td>4.571</td>\n",
       "      <td>0.071200</td>\n",
       "      <td>0.789680</td>\n",
       "      <td>0.342010</td>\n",
       "      <td>0.285310</td>\n",
       "      <td>0.062320</td>\n",
       "      <td>0.243620</td>\n",
       "      <td>3236756</td>\n",
       "      <td>Sub-Saharan Africa</td>\n",
       "      <td>3580.0</td>\n",
       "    </tr>\n",
       "  </tbody>\n",
       "</table>\n",
       "<p>242 rows × 13 columns</p>\n",
       "</div>"
      ],
      "text/plain": [
       "     Year         Country  Happiness Rank  Happiness Score  \\\n",
       "0    2016          France              32            6.478   \n",
       "1    2018       Venezuela             102            4.806   \n",
       "2    2019      Costa Rica              12            7.167   \n",
       "3    2019         Bolivia              61            5.779   \n",
       "4    2016       Nicaragua              48            5.992   \n",
       "..    ...             ...             ...              ...   \n",
       "237  2017     Philippines              72            5.430   \n",
       "238  2018  United Kingdom              11            7.190   \n",
       "239  2017        Ethiopia             119            4.460   \n",
       "240  2019           India             140            4.015   \n",
       "241  2015         Liberia             116            4.571   \n",
       "\n",
       "     Economy (GDP per Capita)    Family  Health (Life Expectancy)   Freedom  \\\n",
       "0                    6.559000  1.394880                  1.005080  0.837950   \n",
       "1                    0.996000  1.469000                  0.657000  0.133000   \n",
       "2                    1.034000  1.441000                  0.963000  0.558000   \n",
       "3                    0.776000  1.209000                  0.706000  0.511000   \n",
       "4                    6.107000  0.693840                  0.895210  0.652130   \n",
       "..                        ...       ...                       ...       ...   \n",
       "237                  5.314665  0.857699                  1.253918  0.468009   \n",
       "238                  1.244000  1.433000                  0.888000  0.464000   \n",
       "239                  4.377271  0.339234                  0.864669  0.353410   \n",
       "240                  0.755000  0.765000                  0.588000  0.498000   \n",
       "241                  0.071200  0.789680                  0.342010  0.285310   \n",
       "\n",
       "     Trust (Government Corruption)  Generosity  Population Estimate  \\\n",
       "0                         0.465620    0.178080             74264176   \n",
       "1                         0.052000    0.056000             29174393   \n",
       "2                         0.093000    0.144000              4657652   \n",
       "3                         0.064000    0.137000             10286729   \n",
       "4                         0.465820    0.162920              5994622   \n",
       "..                             ...         ...                  ...   \n",
       "237                       0.585215    0.193513             99766788   \n",
       "238                       0.082000    0.262000             73917008   \n",
       "239                       0.408843    0.312651             78815294   \n",
       "240                       0.085000    0.200000           1260422331   \n",
       "241                       0.062320    0.243620              3236756   \n",
       "\n",
       "                        Region  Immigration to the United States  \n",
       "0        Europe & Central Asia                            5473.0  \n",
       "1    Latin America & Caribbean                           11481.0  \n",
       "2    Latin America & Caribbean                            2466.0  \n",
       "3    Latin America & Caribbean                            1425.0  \n",
       "4    Latin America & Caribbean                            3397.0  \n",
       "..                         ...                               ...  \n",
       "237        East Asia & Pacific                           46542.0  \n",
       "238      Europe & Central Asia                           11867.0  \n",
       "239         Sub-Saharan Africa                           15678.0  \n",
       "240                 South Asia                           51139.0  \n",
       "241         Sub-Saharan Africa                            3580.0  \n",
       "\n",
       "[242 rows x 13 columns]"
      ]
     },
     "execution_count": 285,
     "metadata": {},
     "output_type": "execute_result"
    }
   ],
   "source": [
    "train_x_and_y = pd.concat([read_train_x, read_train_y], axis = 1)\n",
    "train_x_and_y"
   ]
  },
  {
   "cell_type": "markdown",
   "metadata": {},
   "source": [
    "### Verifying Dataset Integrity"
   ]
  },
  {
   "cell_type": "code",
   "execution_count": 286,
   "metadata": {},
   "outputs": [
    {
     "data": {
      "text/plain": [
       "Year                                0\n",
       "Country                             0\n",
       "Happiness Rank                      0\n",
       "Happiness Score                     0\n",
       "Economy (GDP per Capita)            0\n",
       "Family                              0\n",
       "Health (Life Expectancy)            0\n",
       "Freedom                             0\n",
       "Trust (Government Corruption)       0\n",
       "Generosity                          0\n",
       "Population Estimate                 0\n",
       "Region                              0\n",
       "Immigration to the United States    0\n",
       "dtype: int64"
      ]
     },
     "execution_count": 286,
     "metadata": {},
     "output_type": "execute_result"
    }
   ],
   "source": [
    "train_x_and_y.isna().sum()"
   ]
  },
  {
   "cell_type": "markdown",
   "metadata": {},
   "source": [
    "### Displaying All Dataset Features"
   ]
  },
  {
   "cell_type": "code",
   "execution_count": 287,
   "metadata": {},
   "outputs": [
    {
     "name": "stdout",
     "output_type": "stream",
     "text": [
      "<class 'pandas.core.frame.DataFrame'>\n",
      "RangeIndex: 242 entries, 0 to 241\n",
      "Data columns (total 13 columns):\n",
      " #   Column                            Non-Null Count  Dtype  \n",
      "---  ------                            --------------  -----  \n",
      " 0   Year                              242 non-null    int64  \n",
      " 1   Country                           242 non-null    object \n",
      " 2   Happiness Rank                    242 non-null    int64  \n",
      " 3   Happiness Score                   242 non-null    float64\n",
      " 4   Economy (GDP per Capita)          242 non-null    float64\n",
      " 5   Family                            242 non-null    float64\n",
      " 6   Health (Life Expectancy)          242 non-null    float64\n",
      " 7   Freedom                           242 non-null    float64\n",
      " 8   Trust (Government Corruption)     242 non-null    float64\n",
      " 9   Generosity                        242 non-null    float64\n",
      " 10  Population Estimate               242 non-null    int64  \n",
      " 11  Region                            242 non-null    object \n",
      " 12  Immigration to the United States  242 non-null    float64\n",
      "dtypes: float64(8), int64(3), object(2)\n",
      "memory usage: 24.7+ KB\n"
     ]
    }
   ],
   "source": [
    "train_x_and_y.info()"
   ]
  },
  {
   "cell_type": "markdown",
   "metadata": {},
   "source": [
    "## Analysing Correlation Between Features and Target\n",
    "### Normalization immigration data for standard deviation "
   ]
  },
  {
   "cell_type": "code",
   "execution_count": 288,
   "metadata": {},
   "outputs": [
    {
     "data": {
      "text/plain": [
       "Happiness Score                    -0.162831\n",
       "Family                             -0.143889\n",
       "Population Estimate                -0.133059\n",
       "Health (Life Expectancy)           -0.085975\n",
       "Freedom                            -0.075189\n",
       "Generosity                         -0.073544\n",
       "Trust (Government Corruption)      -0.042822\n",
       "Economy (GDP per Capita)           -0.013433\n",
       "Year                                0.010020\n",
       "Happiness Rank                      0.148433\n",
       "Immigration to the United States    0.279210\n",
       "normalized_immigration              1.000000\n",
       "Name: normalized_immigration, dtype: float64"
      ]
     },
     "execution_count": 288,
     "metadata": {},
     "output_type": "execute_result"
    }
   ],
   "source": [
    "train_x_and_y[\"normalized_immigration\"] = train_x_and_y[\"Immigration to the United States\"] / train_x_and_y[\"Population Estimate\"]\n",
    "\n",
    "correlation_value = train_x_and_y.corr()\n",
    "correlation_value[\"normalized_immigration\"].sort_values()"
   ]
  },
  {
   "cell_type": "markdown",
   "metadata": {},
   "source": [
    "## Choosing Features for Model\n",
    "### Eliminating all non-numerical values"
   ]
  },
  {
   "cell_type": "code",
   "execution_count": 289,
   "metadata": {},
   "outputs": [
    {
     "data": {
      "text/html": [
       "<div>\n",
       "<style scoped>\n",
       "    .dataframe tbody tr th:only-of-type {\n",
       "        vertical-align: middle;\n",
       "    }\n",
       "\n",
       "    .dataframe tbody tr th {\n",
       "        vertical-align: top;\n",
       "    }\n",
       "\n",
       "    .dataframe thead th {\n",
       "        text-align: right;\n",
       "    }\n",
       "</style>\n",
       "<table border=\"1\" class=\"dataframe\">\n",
       "  <thead>\n",
       "    <tr style=\"text-align: right;\">\n",
       "      <th></th>\n",
       "      <th>Happiness Rank</th>\n",
       "      <th>Happiness Score</th>\n",
       "      <th>Economy (GDP per Capita)</th>\n",
       "      <th>Family</th>\n",
       "      <th>Health (Life Expectancy)</th>\n",
       "      <th>Freedom</th>\n",
       "      <th>Trust (Government Corruption)</th>\n",
       "      <th>Generosity</th>\n",
       "      <th>Population Estimate</th>\n",
       "      <th>normalized_immigration</th>\n",
       "    </tr>\n",
       "  </thead>\n",
       "  <tbody>\n",
       "    <tr>\n",
       "      <th>0</th>\n",
       "      <td>32</td>\n",
       "      <td>6.478</td>\n",
       "      <td>6.559000</td>\n",
       "      <td>1.394880</td>\n",
       "      <td>1.005080</td>\n",
       "      <td>0.837950</td>\n",
       "      <td>0.465620</td>\n",
       "      <td>0.178080</td>\n",
       "      <td>74264176</td>\n",
       "      <td>0.000074</td>\n",
       "    </tr>\n",
       "    <tr>\n",
       "      <th>1</th>\n",
       "      <td>102</td>\n",
       "      <td>4.806</td>\n",
       "      <td>0.996000</td>\n",
       "      <td>1.469000</td>\n",
       "      <td>0.657000</td>\n",
       "      <td>0.133000</td>\n",
       "      <td>0.052000</td>\n",
       "      <td>0.056000</td>\n",
       "      <td>29174393</td>\n",
       "      <td>0.000394</td>\n",
       "    </tr>\n",
       "    <tr>\n",
       "      <th>2</th>\n",
       "      <td>12</td>\n",
       "      <td>7.167</td>\n",
       "      <td>1.034000</td>\n",
       "      <td>1.441000</td>\n",
       "      <td>0.963000</td>\n",
       "      <td>0.558000</td>\n",
       "      <td>0.093000</td>\n",
       "      <td>0.144000</td>\n",
       "      <td>4657652</td>\n",
       "      <td>0.000529</td>\n",
       "    </tr>\n",
       "    <tr>\n",
       "      <th>3</th>\n",
       "      <td>61</td>\n",
       "      <td>5.779</td>\n",
       "      <td>0.776000</td>\n",
       "      <td>1.209000</td>\n",
       "      <td>0.706000</td>\n",
       "      <td>0.511000</td>\n",
       "      <td>0.064000</td>\n",
       "      <td>0.137000</td>\n",
       "      <td>10286729</td>\n",
       "      <td>0.000139</td>\n",
       "    </tr>\n",
       "    <tr>\n",
       "      <th>4</th>\n",
       "      <td>48</td>\n",
       "      <td>5.992</td>\n",
       "      <td>6.107000</td>\n",
       "      <td>0.693840</td>\n",
       "      <td>0.895210</td>\n",
       "      <td>0.652130</td>\n",
       "      <td>0.465820</td>\n",
       "      <td>0.162920</td>\n",
       "      <td>5994622</td>\n",
       "      <td>0.000567</td>\n",
       "    </tr>\n",
       "    <tr>\n",
       "      <th>...</th>\n",
       "      <td>...</td>\n",
       "      <td>...</td>\n",
       "      <td>...</td>\n",
       "      <td>...</td>\n",
       "      <td>...</td>\n",
       "      <td>...</td>\n",
       "      <td>...</td>\n",
       "      <td>...</td>\n",
       "      <td>...</td>\n",
       "      <td>...</td>\n",
       "    </tr>\n",
       "    <tr>\n",
       "      <th>237</th>\n",
       "      <td>72</td>\n",
       "      <td>5.430</td>\n",
       "      <td>5.314665</td>\n",
       "      <td>0.857699</td>\n",
       "      <td>1.253918</td>\n",
       "      <td>0.468009</td>\n",
       "      <td>0.585215</td>\n",
       "      <td>0.193513</td>\n",
       "      <td>99766788</td>\n",
       "      <td>0.000467</td>\n",
       "    </tr>\n",
       "    <tr>\n",
       "      <th>238</th>\n",
       "      <td>11</td>\n",
       "      <td>7.190</td>\n",
       "      <td>1.244000</td>\n",
       "      <td>1.433000</td>\n",
       "      <td>0.888000</td>\n",
       "      <td>0.464000</td>\n",
       "      <td>0.082000</td>\n",
       "      <td>0.262000</td>\n",
       "      <td>73917008</td>\n",
       "      <td>0.000161</td>\n",
       "    </tr>\n",
       "    <tr>\n",
       "      <th>239</th>\n",
       "      <td>119</td>\n",
       "      <td>4.460</td>\n",
       "      <td>4.377271</td>\n",
       "      <td>0.339234</td>\n",
       "      <td>0.864669</td>\n",
       "      <td>0.353410</td>\n",
       "      <td>0.408843</td>\n",
       "      <td>0.312651</td>\n",
       "      <td>78815294</td>\n",
       "      <td>0.000199</td>\n",
       "    </tr>\n",
       "    <tr>\n",
       "      <th>240</th>\n",
       "      <td>140</td>\n",
       "      <td>4.015</td>\n",
       "      <td>0.755000</td>\n",
       "      <td>0.765000</td>\n",
       "      <td>0.588000</td>\n",
       "      <td>0.498000</td>\n",
       "      <td>0.085000</td>\n",
       "      <td>0.200000</td>\n",
       "      <td>1260422331</td>\n",
       "      <td>0.000041</td>\n",
       "    </tr>\n",
       "    <tr>\n",
       "      <th>241</th>\n",
       "      <td>116</td>\n",
       "      <td>4.571</td>\n",
       "      <td>0.071200</td>\n",
       "      <td>0.789680</td>\n",
       "      <td>0.342010</td>\n",
       "      <td>0.285310</td>\n",
       "      <td>0.062320</td>\n",
       "      <td>0.243620</td>\n",
       "      <td>3236756</td>\n",
       "      <td>0.001106</td>\n",
       "    </tr>\n",
       "  </tbody>\n",
       "</table>\n",
       "<p>242 rows × 10 columns</p>\n",
       "</div>"
      ],
      "text/plain": [
       "     Happiness Rank  Happiness Score  Economy (GDP per Capita)    Family  \\\n",
       "0                32            6.478                  6.559000  1.394880   \n",
       "1               102            4.806                  0.996000  1.469000   \n",
       "2                12            7.167                  1.034000  1.441000   \n",
       "3                61            5.779                  0.776000  1.209000   \n",
       "4                48            5.992                  6.107000  0.693840   \n",
       "..              ...              ...                       ...       ...   \n",
       "237              72            5.430                  5.314665  0.857699   \n",
       "238              11            7.190                  1.244000  1.433000   \n",
       "239             119            4.460                  4.377271  0.339234   \n",
       "240             140            4.015                  0.755000  0.765000   \n",
       "241             116            4.571                  0.071200  0.789680   \n",
       "\n",
       "     Health (Life Expectancy)   Freedom  Trust (Government Corruption)  \\\n",
       "0                    1.005080  0.837950                       0.465620   \n",
       "1                    0.657000  0.133000                       0.052000   \n",
       "2                    0.963000  0.558000                       0.093000   \n",
       "3                    0.706000  0.511000                       0.064000   \n",
       "4                    0.895210  0.652130                       0.465820   \n",
       "..                        ...       ...                            ...   \n",
       "237                  1.253918  0.468009                       0.585215   \n",
       "238                  0.888000  0.464000                       0.082000   \n",
       "239                  0.864669  0.353410                       0.408843   \n",
       "240                  0.588000  0.498000                       0.085000   \n",
       "241                  0.342010  0.285310                       0.062320   \n",
       "\n",
       "     Generosity  Population Estimate  normalized_immigration  \n",
       "0      0.178080             74264176                0.000074  \n",
       "1      0.056000             29174393                0.000394  \n",
       "2      0.144000              4657652                0.000529  \n",
       "3      0.137000             10286729                0.000139  \n",
       "4      0.162920              5994622                0.000567  \n",
       "..          ...                  ...                     ...  \n",
       "237    0.193513             99766788                0.000467  \n",
       "238    0.262000             73917008                0.000161  \n",
       "239    0.312651             78815294                0.000199  \n",
       "240    0.200000           1260422331                0.000041  \n",
       "241    0.243620              3236756                0.001106  \n",
       "\n",
       "[242 rows x 10 columns]"
      ]
     },
     "execution_count": 289,
     "metadata": {},
     "output_type": "execute_result"
    }
   ],
   "source": [
    "train_x_and_y.drop([\"Year\", \"Country\", \"Region\", \"Immigration to the United States\"], axis = 1, inplace = True)\n",
    "train_x_and_y"
   ]
  },
  {
   "cell_type": "markdown",
   "metadata": {},
   "source": [
    "## Choosing the Best Metric for the Model\n",
    "### Comparing Ridge and Lasso Regression performance"
   ]
  },
  {
   "cell_type": "code",
   "execution_count": 290,
   "metadata": {},
   "outputs": [],
   "source": [
    "from sklearn.linear_model import Ridge\n",
    "from sklearn.linear_model import Lasso\n",
    "\n",
    "from sklearn.metrics import mean_squared_error"
   ]
  },
  {
   "cell_type": "markdown",
   "metadata": {},
   "source": [
    "## Testing Ridge Regression\n",
    "### The alpha value is simply the regression parameter. As you increase the regression parameter, you subsequently increase the penalty. Thus, a lower regression parameter so the result of the regression does not overfit to the training data.\n",
    "### Testing solver values led to 'svd' yielding the greatest performance."
   ]
  },
  {
   "cell_type": "code",
   "execution_count": 291,
   "metadata": {},
   "outputs": [
    {
     "data": {
      "text/plain": [
       "Ridge(alpha=0.01, solver='svd')"
      ]
     },
     "execution_count": 291,
     "metadata": {},
     "output_type": "execute_result"
    }
   ],
   "source": [
    "ridge_test = Ridge(alpha = 0.01, solver = 'svd')\n",
    "ridge_test.fit(train_x_and_y, read_train_y)"
   ]
  },
  {
   "cell_type": "code",
   "execution_count": 292,
   "metadata": {},
   "outputs": [
    {
     "data": {
      "text/plain": [
       "453944276.6542021"
      ]
     },
     "execution_count": 292,
     "metadata": {},
     "output_type": "execute_result"
    }
   ],
   "source": [
    "hypothesis_ridge = ridge_test.predict(train_x_and_y)\n",
    "\n",
    "mean_squared_error(read_train_y, hypothesis_ridge)"
   ]
  },
  {
   "cell_type": "code",
   "execution_count": 293,
   "metadata": {},
   "outputs": [
    {
     "data": {
      "text/plain": [
       "21305.968099436413"
      ]
     },
     "execution_count": 293,
     "metadata": {},
     "output_type": "execute_result"
    }
   ],
   "source": [
    "np.sqrt(mean_squared_error(read_train_y, hypothesis_ridge))"
   ]
  },
  {
   "cell_type": "markdown",
   "metadata": {},
   "source": [
    "## Testing Lasso Regression\n",
    "### The alpha value is simply the regression parameter. As you increase the regression parameter, you subsequently increase the penalty. Thus, a lower regression parameter so the result of the regression does not overfit to the training data."
   ]
  },
  {
   "cell_type": "code",
   "execution_count": 294,
   "metadata": {},
   "outputs": [
    {
     "name": "stderr",
     "output_type": "stream",
     "text": [
      "C:\\Users\\omar_\\AppData\\Local\\Programs\\Python\\Python39\\lib\\site-packages\\sklearn\\linear_model\\_coordinate_descent.py:645: ConvergenceWarning: Objective did not converge. You might want to increase the number of iterations, check the scale of the features or consider increasing regularisation. Duality gap: 4.789e+10, tolerance: 1.457e+07\n",
      "  model = cd_fast.enet_coordinate_descent(\n"
     ]
    },
    {
     "data": {
      "text/plain": [
       "Lasso(alpha=0.01)"
      ]
     },
     "execution_count": 294,
     "metadata": {},
     "output_type": "execute_result"
    }
   ],
   "source": [
    "lasso_test = Lasso(alpha = 0.01)\n",
    "lasso_test.fit(train_x_and_y, read_train_y)"
   ]
  },
  {
   "cell_type": "code",
   "execution_count": 295,
   "metadata": {},
   "outputs": [
    {
     "data": {
      "text/plain": [
       "395963032.7783118"
      ]
     },
     "execution_count": 295,
     "metadata": {},
     "output_type": "execute_result"
    }
   ],
   "source": [
    "hypothesis_lasso = lasso.predict(train_x_and_y)\n",
    "\n",
    "mean_squared_error(read_train_y, hypothesis_lasso)"
   ]
  },
  {
   "cell_type": "code",
   "execution_count": 296,
   "metadata": {},
   "outputs": [
    {
     "data": {
      "text/plain": [
       "19898.81988406126"
      ]
     },
     "execution_count": 296,
     "metadata": {},
     "output_type": "execute_result"
    }
   ],
   "source": [
    "np.sqrt(mean_squared_error(read_train_y, hypothesis_lasso))"
   ]
  },
  {
   "cell_type": "markdown",
   "metadata": {},
   "source": [
    "## Conclusion\n",
    "### I ultimately selected Lasso Regression as my metric of choice as Ridge Regression is inherently more susceptible to outliers, which a dataset of this nature will undoubtedly contain.\n",
    "### Predictions can be found in the attached \"Data_Challenge_01.csv\""
   ]
  },
  {
   "cell_type": "code",
   "execution_count": 297,
   "metadata": {},
   "outputs": [],
   "source": [
    "hypothesis_lasso = pd.DataFrame(hypothesis_lasso, columns = [\"Immigration to the United States\"])\n",
    "hypothesis_lasso = hypothesis_lasso.astype(int)\n",
    "\n",
    "predictions_csv = hypothesis_lasso.to_csv(\"Data_Challenge_1.csv\", index = None)"
   ]
  }
 ],
 "metadata": {
  "interpreter": {
   "hash": "4e90577027c5b8e04a1a79b3ad764d1f40a10a6673eba4039ad2839232b92287"
  },
  "kernelspec": {
   "display_name": "Python 3.9.7 64-bit",
   "name": "python3"
  },
  "language_info": {
   "codemirror_mode": {
    "name": "ipython",
    "version": 3
   },
   "file_extension": ".py",
   "mimetype": "text/x-python",
   "name": "python",
   "nbconvert_exporter": "python",
   "pygments_lexer": "ipython3",
   "version": "3.9.7"
  },
  "orig_nbformat": 4
 },
 "nbformat": 4,
 "nbformat_minor": 2
}
